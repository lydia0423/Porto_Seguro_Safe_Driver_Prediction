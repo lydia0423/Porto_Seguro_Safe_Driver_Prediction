{
 "cells": [
  {
   "cell_type": "markdown",
   "metadata": {},
   "source": [
    "![](https://github.com/datoujinggzj/WhaleDataScienceProject/blob/master/pic/12.png?raw=true)"
   ]
  },
  {
   "cell_type": "markdown",
   "metadata": {},
   "source": [
    "👇👇👇点击可跳转！\n",
    "\n",
    "1. [5大变量类型的联系和区别](#5大变量类型的联系和区别)\n",
    "   - 1.1 [binary](#binary)\n",
    "   - 1.2 [nominal](#nominal)\n",
    "   - 1.3 [ordinal](#ordinal)\n",
    "   - 1.4 [interval](#interval)\n",
    "   - 1.5 [ratio](#ratio)\n",
    "2. [元数据框架](#元数据框架)\n",
    "   - 2.1 [metadata介绍](#metadata介绍)\n",
    "   - 2.2 [metadata构建方法](#metadata构建方法)\n",
    "   - 2.3 [元数据分析](#元数据分析)\n",
    "3. [其他](#其他)"
   ]
  },
  {
   "cell_type": "markdown",
   "metadata": {},
   "source": [
    "<div class=\"alert alert-block alert-warning\">\n",
    "<center><b>项目日志（2022年2月18日）</b></center>\n",
    "   \n",
    "第二阶段：【数据管理&元数据分析】\n",
    "\n",
    "    \n",
    "**第二节阶段核心目的：**\n",
    "   - 掌握5大变量类型的适用场景和应用方法\n",
    "   - 理解运用元数据方法论，掌握元数据框架\n",
    "   - 熟练运用元数据方法分析数据\n",
    "   - Matplotlib强化巩固\n",
    "    \n",
    "**难度（最高5星）：**⭐⭐⭐\n",
    "    \n",
    "**第二阶段周期：** 2022年4月8日 至 2022年4月15日（北京时间）\n",
    "    \n",
    "\n",
    "Good Luck!\n",
    "</div>\n"
   ]
  },
  {
   "cell_type": "markdown",
   "metadata": {},
   "source": [
    "第二阶段，我们正式进入【数据分析】层面，不管大家是在校生、求职党、转行党、甚至纯粹为了自我提升的伙伴们，千万不要觉得画画柱形图、饼图，找找变量之间有啥关系就是数据分析了，远不止于此。\n",
    "\n",
    "在我们这个项目中，有58个特征，我们需要用58个特征去预测司机明年发起索赔的概率是多少，那么上一期，大家已经讨论分析过这样做的意义。\n",
    "\n",
    "包括但不限于：\n",
    "\n",
    "- **在司机层面：** 可以帮助司机减少不必要的保险支出，提升司机的理性投保意愿。\n",
    "- **在公司层面：** 可以帮助公司对保险产品更合理的定价，帮助公司对客户在投保意愿上更准确的分析其特征，提高行业竞争力。\n",
    "- **在发展层面：** 可以帮助公司缩小对客户特征的调研范围，极大节省研究成本，扩大精英特征的研究投入，对新用户索赔情况快速响应等等。"
   ]
  },
  {
   "cell_type": "markdown",
   "metadata": {},
   "source": [
    "那么这一阶段，我们主要来去研究一下，什么是元数据！\n",
    "\n",
    "- <font color=red>元数据是什么？</font>\n",
    "- <font color=red>为什么在做项目时非常重要？</font>\n",
    "- <font color=red>元数据管理后有什么好处？</font>\n",
    "- <font color=red>元数据分析又有哪些亮点？</font>\n",
    "\n",
    "这一期帮大家一一解答。"
   ]
  },
  {
   "cell_type": "markdown",
   "metadata": {},
   "source": [
    "## 5大变量类型的联系和区别\n",
    "\n",
    "首先，本项目为了保护客户信息，没有公开数据的58个分析特征的具体含义，说白了，我们不能从【列名】进行直观上的分析，我们无法判断哪些特征对预测是切实有效的！\n",
    "\n",
    "举个例子：我想预测一个人是男生还是女生，我们可能通过头发长度、身高、体重等直观维度去进行判别，我们会根据自然的意识和经验对特征的影响程度评估，这样不太回走弯路。\n",
    "\n",
    "但是，这里所有维度的含义被延长，我们不能主观判断，只能通过不同的变量类型，拆解整合，期待找到其中的联系。"
   ]
  },
  {
   "cell_type": "markdown",
   "metadata": {},
   "source": [
    "通过`df.info()`可以看出各个维度的数据类型，有 `int64` 和 `float64` 两种，说明什么？\n",
    "\n",
    "说明数据已经在放出来之前，经过了一轮处理，文本数据已经被转换为整数（也是为了保护客户的一种手段）。"
   ]
  },
  {
   "cell_type": "markdown",
   "metadata": {},
   "source": [
    "那么，总共58个特征，它们都属于那种变量类型呢？\n",
    "\n",
    "**英文叫做：levels of measurement**\n",
    "\n",
    "大概如下：\n",
    "\n",
    "- binary ==> 0 or 1\n",
    "    - 这一列只含有两种值：不是0就是1\n",
    "- nominal ==> categorical 不含顺序\n",
    "    - 最常用的类别型变量，**不含任何排序**\n",
    "    - 举例：**中国、美国、英国等国家就属于nominal变量，他们之间不存在顺序关系**\n",
    "- ordinal ==> categorical 含顺序\n",
    "    - 顾名思义，跟nominal相比，含顺序\n",
    "    - 举例：成绩排名；小明第一，小红第二，小王第三等等，**虽然但看这三个任命不存在任何排序关系，但是在这里就代表着成绩高低**，所以是ordinal变量。\n",
    "- interval ==> continuous 无绝对零点\n",
    "    - 连续型数据，可以参与统计计算，比较大小，量化差距\n",
    "    - 举例：温度；温度是衡量冷热而存在的物理量，40度比20度高20度，但是我们不能说40度是20度的两倍，**这是因为interval数据没有绝对零点！**\n",
    "    \n",
    "- ratio ==> continuous 有绝对零点\n",
    "    - 连续型数据，可以参与统计计算，比较大小，加减乘除运算都可以\n",
    "    - 举例：身高；200cm比100cm长100cm，也可以说200cm是100cm的两倍。**这是因为ratio数据有绝对零点！**\n",
    "    \n",
    "看下面👇👇👇 \n",
    "\n",
    "来自我的小红书作品：http://xhslink.com/AYivVf\n",
    "【请移步到我的作品中查看细节哦！】"
   ]
  },
  {
   "cell_type": "markdown",
   "metadata": {},
   "source": [
    "<div class=\"alert alert-block alert-success\"><b>Step 1 </b>完成下面习题\n",
    "\n",
    "    \n",
    "将以下内容分类为为binary、nominal、ordinal、interval、ratio。\n",
    "\n",
    "\n",
    "</div>"
   ]
  },
  {
   "cell_type": "markdown",
   "metadata": {},
   "source": [
    "|  id  |                         Question                         | Your Answer |\n",
    "| :--: | :------------------------------------------------------: | :---------: |\n",
    "|  1   |                 Flavors of frozen yogurt                 |             |\n",
    "|  2   |           Amount of money in savings accounts            |             |\n",
    "|  3   |            Letter grades on an English essay             |             |\n",
    "|  4   |                        Religions                         |             |\n",
    "|  5   |                 Commuting times to work                  |             |\n",
    "|  6   |             Ages (in years) of art students              |             |\n",
    "|  7   |               Ice cream flavor preference                |             |\n",
    "|  8   |           Years of important historical events           |             |\n",
    "|  9   | Instructors classified as: Easy, Difficult or Impossible |             |\n",
    "\n"
   ]
  },
  {
   "cell_type": "markdown",
   "metadata": {},
   "source": [
    "![](https://arpitatechcorner.files.wordpress.com/2020/11/image-13.png)"
   ]
  },
  {
   "cell_type": "markdown",
   "metadata": {},
   "source": [
    "![](https://arpitatechcorner.files.wordpress.com/2020/11/image-15.png)"
   ]
  },
  {
   "cell_type": "markdown",
   "metadata": {},
   "source": [
    "![](https://miro.medium.com/max/1400/1*e1h2huKYFWUsR4sGwu47gQ.png)"
   ]
  },
  {
   "cell_type": "markdown",
   "metadata": {},
   "source": [
    "![](https://github.com/datoujinggzj/WhaleDataScienceProject/blob/master/pic/sep.gif?raw=true)"
   ]
  },
  {
   "cell_type": "markdown",
   "metadata": {},
   "source": [
    "![](https://github.com/datoujinggzj/WhaleDataScienceProject/blob/master/pic/13.png?raw=true)"
   ]
  },
  {
   "cell_type": "markdown",
   "metadata": {},
   "source": [
    "### 元数据\n",
    "\n",
    "这个概念可能大家不是很熟悉，元宇宙最近这么火，大家都了解吧哈哈！\n",
    "\n",
    "\n",
    "- 什么是元数据？\n",
    "\n",
    "元数据（metadata），也叫做中介数据，或者叫数据的数据（data about data）。\n",
    "\n",
    "- 为什么做项目时很重要？\n",
    "\n",
    "因为做项目时，经常遇到维度很高，特征很多的数据，我们为了方便进一步的分析，必须对数据进行结构化的梳理，那么元数据是个很好的开始。\n",
    "\n",
    "- 元数据有啥用？\n",
    "\n",
    "主要来描述数据的属性（property）关于数据的组织、结构梳理，以及为以后的数据分析、可视化、建模都有很重要的意义。"
   ]
  },
  {
   "cell_type": "markdown",
   "metadata": {},
   "source": [
    "<div class=\"alert alert-block alert-success\"><b>Step 2</b>: 我们应该如何梳理高维度数据？别着急往下看，先思考一下！</div>"
   ]
  },
  {
   "cell_type": "markdown",
   "metadata": {},
   "source": [
    "<div class=\"alert alert-block alert-info\"> \n",
    "<p style=\"font-size:20px; display:inline\">💡</p> 小提示：\n",
    "    \n",
    "高维数据换句话说就是数据的列数很多，所以我们应该围绕列来展开。\n",
    "    \n",
    "我们需要对所有列根据下列几个方面进行梳理：\n",
    "    \n",
    "- role ==> 序号|标签|特征\n",
    "- category ==> 根据变量含义推断类别：车|人|地点|人工计算\n",
    "- level ==> binary|nominal|ordinal|interval|ratio\n",
    "- dtype ==> int|float|object...\n",
    "- unique ==> 唯一值数量\n",
    "- cardinality ==> high|low\n",
    "- missing ==> 缺失值数量\n",
    "- missing_percent ==> 缺失值百分比\n",
    "- imputation ==> 填充缺失值手段\n",
    "- keep ==> 是否保留\n",
    "\n",
    "</div>"
   ]
  },
  {
   "cell_type": "markdown",
   "metadata": {},
   "source": [
    "<div class=\"alert alert-block alert-success\"><b>Step 2 (5分)</b>: 构建元数据结构表。\n",
    "\n",
    "`from data_management import meta`\n",
    "    \n",
    "能复原我的output么？\n",
    "\n",
    "</div>"
   ]
  },
  {
   "cell_type": "code",
   "execution_count": 1,
   "metadata": {},
   "outputs": [],
   "source": [
    "import pandas as pd\n",
    "import numpy as np\n",
    "train = pd.read_csv('../../data/train.csv')\n",
    "test = pd.read_csv('../../data/test.csv')"
   ]
  },
  {
   "cell_type": "code",
   "execution_count": 2,
   "metadata": {},
   "outputs": [],
   "source": [
    "# train test 合并成一个 full set\n",
    "\n",
    "fullset = \"这里写你的答案！\""
   ]
  },
  {
   "cell_type": "markdown",
   "metadata": {},
   "source": [
    "那么，变量类型的逻辑，帮大家梳理一下： \n",
    "\n",
    "```diff\n",
    "- role\n",
    "+ 对每个列打上标签：序号|标签|特征\n",
    "```\n",
    "\n",
    "```diff\n",
    "- category\n",
    "+ 1. 列名含有ind表示individual的含义，返回\"individual\"\n",
    "+ 2. 列名含有car表示car的含义，返回\"car\"\n",
    "+ 3. 列名含有calc表示calculated的含义，返回\"calculated\"\n",
    "```\n",
    "\n",
    "\n",
    "```diff\n",
    "- level\n",
    "+ 1. 列名里有`bin`的或者这一列是target，我们归类为`binary` (if)\n",
    "+ 2. 列名里有`cat`的或者这一列是id，归类为`nominal` (elif)\n",
    "+ 3. 数据类型为`float`的是`interval` (elif)\n",
    "+ 4. 数据类型是`int`的是`ordinal` (elif)\n",
    "\n",
    "@ ordinal 解释一下：刨除开前面的情况，剩下的特征，如果他们的数据类型是`int`，我们认为他们是ordinal的，因为整数的排列是有序的，我们认为2>1，3>2等等，对应值的影响程度也满足这样的序列关系（虽然我们不知道值的具体含义）\n",
    "\n",
    "```"
   ]
  },
  {
   "cell_type": "markdown",
   "metadata": {},
   "source": [
    "**目标就是形成类似于下面的这样的表！**\n",
    "\n",
    "【这个表有59行，相当于对数据的每一个维度进行梳理分析】\n",
    "\n",
    "**注意：df的index设置为变量名称！**"
   ]
  },
  {
   "cell_type": "code",
   "execution_count": 3,
   "metadata": {},
   "outputs": [],
   "source": [
    "from data_management import meta"
   ]
  },
  {
   "cell_type": "code",
   "execution_count": 4,
   "metadata": {
    "scrolled": true
   },
   "outputs": [],
   "source": [
    "metadata = meta(train,test)"
   ]
  },
  {
   "cell_type": "markdown",
   "metadata": {},
   "source": [
    "<div class=\"alert alert-block alert-success\"><b>Step 3</b>: \n",
    "    \n",
    "请基于meta，找出各个数据角色、变量类型各有多少个特征，目标形成下图的dataframe！\n",
    "</div>"
   ]
  },
  {
   "cell_type": "code",
   "execution_count": 5,
   "metadata": {},
   "outputs": [
    {
     "data": {
      "text/html": [
       "<div>\n",
       "<style scoped>\n",
       "    .dataframe tbody tr th:only-of-type {\n",
       "        vertical-align: middle;\n",
       "    }\n",
       "\n",
       "    .dataframe tbody tr th {\n",
       "        vertical-align: top;\n",
       "    }\n",
       "\n",
       "    .dataframe thead th {\n",
       "        text-align: right;\n",
       "    }\n",
       "</style>\n",
       "<table border=\"1\" class=\"dataframe\">\n",
       "  <thead>\n",
       "    <tr style=\"text-align: right;\">\n",
       "      <th></th>\n",
       "      <th>role</th>\n",
       "      <th>level</th>\n",
       "      <th>count</th>\n",
       "    </tr>\n",
       "  </thead>\n",
       "  <tbody>\n",
       "    <tr>\n",
       "      <th>0</th>\n",
       "      <td>feature</td>\n",
       "      <td>binary</td>\n",
       "      <td>17</td>\n",
       "    </tr>\n",
       "    <tr>\n",
       "      <th>3</th>\n",
       "      <td>feature</td>\n",
       "      <td>ordinal</td>\n",
       "      <td>16</td>\n",
       "    </tr>\n",
       "    <tr>\n",
       "      <th>2</th>\n",
       "      <td>feature</td>\n",
       "      <td>nominal</td>\n",
       "      <td>14</td>\n",
       "    </tr>\n",
       "    <tr>\n",
       "      <th>1</th>\n",
       "      <td>feature</td>\n",
       "      <td>interval</td>\n",
       "      <td>5</td>\n",
       "    </tr>\n",
       "    <tr>\n",
       "      <th>4</th>\n",
       "      <td>feature</td>\n",
       "      <td>ratio</td>\n",
       "      <td>5</td>\n",
       "    </tr>\n",
       "    <tr>\n",
       "      <th>5</th>\n",
       "      <td>id</td>\n",
       "      <td>nominal</td>\n",
       "      <td>1</td>\n",
       "    </tr>\n",
       "    <tr>\n",
       "      <th>6</th>\n",
       "      <td>target</td>\n",
       "      <td>binary</td>\n",
       "      <td>1</td>\n",
       "    </tr>\n",
       "  </tbody>\n",
       "</table>\n",
       "</div>"
      ],
      "text/plain": [
       "      role     level  count\n",
       "0  feature    binary     17\n",
       "3  feature   ordinal     16\n",
       "2  feature   nominal     14\n",
       "1  feature  interval      5\n",
       "4  feature     ratio      5\n",
       "5       id   nominal      1\n",
       "6   target    binary      1"
      ]
     },
     "execution_count": 5,
     "metadata": {},
     "output_type": "execute_result"
    }
   ],
   "source": [
    "# 令起一行不要run\n"
   ]
  },
  {
   "cell_type": "markdown",
   "metadata": {},
   "source": [
    "<div class=\"alert alert-block alert-success\"><b>Step 4 (3分)</b>: \n",
    "    \n",
    "请基于meta，对连续型变量做统计描述型分析，使用describe函数！\n",
    "    \n",
    "- 请问连续型变量里面存在缺失值的有哪些？\n",
    "- 请问连续型变量里面标准差最小的变量名称是什么？\n",
    "- 请问连续型变量里面最大值大于4的变量名称是什么？\n",
    "    \n",
    "</div>"
   ]
  },
  {
   "cell_type": "code",
   "execution_count": 6,
   "metadata": {},
   "outputs": [
    {
     "data": {
      "text/html": [
       "<div>\n",
       "<style scoped>\n",
       "    .dataframe tbody tr th:only-of-type {\n",
       "        vertical-align: middle;\n",
       "    }\n",
       "\n",
       "    .dataframe tbody tr th {\n",
       "        vertical-align: top;\n",
       "    }\n",
       "\n",
       "    .dataframe thead th {\n",
       "        text-align: right;\n",
       "    }\n",
       "</style>\n",
       "<table border=\"1\" class=\"dataframe\">\n",
       "  <thead>\n",
       "    <tr style=\"text-align: right;\">\n",
       "      <th></th>\n",
       "      <th>ps_reg_01</th>\n",
       "      <th>ps_reg_02</th>\n",
       "      <th>ps_reg_03</th>\n",
       "      <th>ps_car_12</th>\n",
       "      <th>ps_car_13</th>\n",
       "      <th>ps_car_14</th>\n",
       "      <th>ps_car_15</th>\n",
       "      <th>ps_calc_01</th>\n",
       "      <th>ps_calc_02</th>\n",
       "      <th>ps_calc_03</th>\n",
       "    </tr>\n",
       "  </thead>\n",
       "  <tbody>\n",
       "    <tr>\n",
       "      <th>count</th>\n",
       "      <td>1.488028e+06</td>\n",
       "      <td>1.488028e+06</td>\n",
       "      <td>1.488028e+06</td>\n",
       "      <td>1.488028e+06</td>\n",
       "      <td>1.488028e+06</td>\n",
       "      <td>1.488028e+06</td>\n",
       "      <td>1.488028e+06</td>\n",
       "      <td>1.488028e+06</td>\n",
       "      <td>1.488028e+06</td>\n",
       "      <td>1.488028e+06</td>\n",
       "    </tr>\n",
       "    <tr>\n",
       "      <th>mean</th>\n",
       "      <td>6.110305e-01</td>\n",
       "      <td>4.395943e-01</td>\n",
       "      <td>5.514848e-01</td>\n",
       "      <td>3.799519e-01</td>\n",
       "      <td>8.134878e-01</td>\n",
       "      <td>2.763614e-01</td>\n",
       "      <td>3.067355e+00</td>\n",
       "      <td>4.496817e-01</td>\n",
       "      <td>4.501073e-01</td>\n",
       "      <td>4.499718e-01</td>\n",
       "    </tr>\n",
       "    <tr>\n",
       "      <th>std</th>\n",
       "      <td>2.876763e-01</td>\n",
       "      <td>4.045123e-01</td>\n",
       "      <td>7.938159e-01</td>\n",
       "      <td>5.836187e-02</td>\n",
       "      <td>2.247024e-01</td>\n",
       "      <td>3.569623e-01</td>\n",
       "      <td>7.299510e-01</td>\n",
       "      <td>2.872071e-01</td>\n",
       "      <td>2.871817e-01</td>\n",
       "      <td>2.872136e-01</td>\n",
       "    </tr>\n",
       "    <tr>\n",
       "      <th>min</th>\n",
       "      <td>0.000000e+00</td>\n",
       "      <td>0.000000e+00</td>\n",
       "      <td>-1.000000e+00</td>\n",
       "      <td>-1.000000e+00</td>\n",
       "      <td>2.506191e-01</td>\n",
       "      <td>-1.000000e+00</td>\n",
       "      <td>0.000000e+00</td>\n",
       "      <td>0.000000e+00</td>\n",
       "      <td>0.000000e+00</td>\n",
       "      <td>0.000000e+00</td>\n",
       "    </tr>\n",
       "    <tr>\n",
       "      <th>25%</th>\n",
       "      <td>4.000000e-01</td>\n",
       "      <td>2.000000e-01</td>\n",
       "      <td>5.250000e-01</td>\n",
       "      <td>3.162278e-01</td>\n",
       "      <td>6.710052e-01</td>\n",
       "      <td>3.339162e-01</td>\n",
       "      <td>2.828427e+00</td>\n",
       "      <td>2.000000e-01</td>\n",
       "      <td>2.000000e-01</td>\n",
       "      <td>2.000000e-01</td>\n",
       "    </tr>\n",
       "    <tr>\n",
       "      <th>50%</th>\n",
       "      <td>7.000000e-01</td>\n",
       "      <td>3.000000e-01</td>\n",
       "      <td>7.211103e-01</td>\n",
       "      <td>3.741657e-01</td>\n",
       "      <td>7.660406e-01</td>\n",
       "      <td>3.687818e-01</td>\n",
       "      <td>3.316625e+00</td>\n",
       "      <td>4.000000e-01</td>\n",
       "      <td>5.000000e-01</td>\n",
       "      <td>5.000000e-01</td>\n",
       "    </tr>\n",
       "    <tr>\n",
       "      <th>75%</th>\n",
       "      <td>9.000000e-01</td>\n",
       "      <td>6.000000e-01</td>\n",
       "      <td>1.001561e+00</td>\n",
       "      <td>4.000000e-01</td>\n",
       "      <td>9.061429e-01</td>\n",
       "      <td>3.964846e-01</td>\n",
       "      <td>3.605551e+00</td>\n",
       "      <td>7.000000e-01</td>\n",
       "      <td>7.000000e-01</td>\n",
       "      <td>7.000000e-01</td>\n",
       "    </tr>\n",
       "    <tr>\n",
       "      <th>max</th>\n",
       "      <td>9.000000e-01</td>\n",
       "      <td>1.800000e+00</td>\n",
       "      <td>4.423517e+00</td>\n",
       "      <td>1.264911e+00</td>\n",
       "      <td>4.031301e+00</td>\n",
       "      <td>6.363961e-01</td>\n",
       "      <td>3.741657e+00</td>\n",
       "      <td>9.000000e-01</td>\n",
       "      <td>9.000000e-01</td>\n",
       "      <td>9.000000e-01</td>\n",
       "    </tr>\n",
       "  </tbody>\n",
       "</table>\n",
       "</div>"
      ],
      "text/plain": [
       "          ps_reg_01     ps_reg_02     ps_reg_03     ps_car_12     ps_car_13  \\\n",
       "count  1.488028e+06  1.488028e+06  1.488028e+06  1.488028e+06  1.488028e+06   \n",
       "mean   6.110305e-01  4.395943e-01  5.514848e-01  3.799519e-01  8.134878e-01   \n",
       "std    2.876763e-01  4.045123e-01  7.938159e-01  5.836187e-02  2.247024e-01   \n",
       "min    0.000000e+00  0.000000e+00 -1.000000e+00 -1.000000e+00  2.506191e-01   \n",
       "25%    4.000000e-01  2.000000e-01  5.250000e-01  3.162278e-01  6.710052e-01   \n",
       "50%    7.000000e-01  3.000000e-01  7.211103e-01  3.741657e-01  7.660406e-01   \n",
       "75%    9.000000e-01  6.000000e-01  1.001561e+00  4.000000e-01  9.061429e-01   \n",
       "max    9.000000e-01  1.800000e+00  4.423517e+00  1.264911e+00  4.031301e+00   \n",
       "\n",
       "          ps_car_14     ps_car_15    ps_calc_01    ps_calc_02    ps_calc_03  \n",
       "count  1.488028e+06  1.488028e+06  1.488028e+06  1.488028e+06  1.488028e+06  \n",
       "mean   2.763614e-01  3.067355e+00  4.496817e-01  4.501073e-01  4.499718e-01  \n",
       "std    3.569623e-01  7.299510e-01  2.872071e-01  2.871817e-01  2.872136e-01  \n",
       "min   -1.000000e+00  0.000000e+00  0.000000e+00  0.000000e+00  0.000000e+00  \n",
       "25%    3.339162e-01  2.828427e+00  2.000000e-01  2.000000e-01  2.000000e-01  \n",
       "50%    3.687818e-01  3.316625e+00  4.000000e-01  5.000000e-01  5.000000e-01  \n",
       "75%    3.964846e-01  3.605551e+00  7.000000e-01  7.000000e-01  7.000000e-01  \n",
       "max    6.363961e-01  3.741657e+00  9.000000e-01  9.000000e-01  9.000000e-01  "
      ]
     },
     "execution_count": 6,
     "metadata": {},
     "output_type": "execute_result"
    }
   ],
   "source": [
    "# 提示：用describe函数\n",
    "stats = \"在这里写你的答案\"\n",
    "stats"
   ]
  },
  {
   "cell_type": "markdown",
   "metadata": {},
   "source": [
    "不要用眼睛看结果，要用代码逻辑输出哦！"
   ]
  },
  {
   "cell_type": "code",
   "execution_count": 7,
   "metadata": {},
   "outputs": [
    {
     "data": {
      "text/plain": [
       "Index(['ps_reg_03', 'ps_car_12', 'ps_car_14'], dtype='object')"
      ]
     },
     "execution_count": 7,
     "metadata": {},
     "output_type": "execute_result"
    }
   ],
   "source": [
    "# 请问连续型变量里面存在缺失值的有哪些？\n",
    "\n",
    "\"这里写你的代码\""
   ]
  },
  {
   "cell_type": "code",
   "execution_count": 8,
   "metadata": {},
   "outputs": [
    {
     "data": {
      "text/plain": [
       "'ps_car_12'"
      ]
     },
     "execution_count": 8,
     "metadata": {},
     "output_type": "execute_result"
    }
   ],
   "source": [
    "# 请问连续型变量里面标准差最小的变量名称是什么？\n",
    "\n",
    "\"这里写你的代码\""
   ]
  },
  {
   "cell_type": "code",
   "execution_count": 9,
   "metadata": {},
   "outputs": [
    {
     "data": {
      "text/plain": [
       "Index(['ps_reg_03', 'ps_car_13'], dtype='object')"
      ]
     },
     "execution_count": 9,
     "metadata": {},
     "output_type": "execute_result"
    }
   ],
   "source": [
    "# 请问连续型变量里面最大值大于4的变量名称是什么？\n",
    "\n",
    "\"这里写你的代码\""
   ]
  },
  {
   "cell_type": "markdown",
   "metadata": {},
   "source": [
    "<div class=\"alert alert-block alert-success\"><b>Step 5</b>: \n",
    "    \n",
    "根据下列代码和对应的结果，你有什么发现么？\n",
    "    \n",
    "</div>"
   ]
  },
  {
   "cell_type": "markdown",
   "metadata": {},
   "source": [
    "你有什么发现么？"
   ]
  },
  {
   "cell_type": "code",
   "execution_count": 10,
   "metadata": {},
   "outputs": [
    {
     "data": {
      "text/plain": [
       "<AxesSubplot:>"
      ]
     },
     "execution_count": 10,
     "metadata": {},
     "output_type": "execute_result"
    },
    {
     "data": {
      "image/png": "[encoded data removed]",
      "text/plain": [
       "<Figure size 432x288 with 1 Axes>"
      ]
     },
     "metadata": {
      "needs_background": "light"
     },
     "output_type": "display_data"
    }
   ],
   "source": [
    "train.target.value_counts().plot(kind = 'bar')"
   ]
  },
  {
   "cell_type": "markdown",
   "metadata": {},
   "source": [
    "<div class=\"alert alert-block alert-success\"><b>Step 6</b>: \n",
    "    \n",
    "`from data_management import data_report`\n",
    "    \n",
    "看看这个函数都能得到什么信息！\n",
    "    \n",
    "</div>"
   ]
  },
  {
   "cell_type": "code",
   "execution_count": 11,
   "metadata": {},
   "outputs": [],
   "source": [
    "from data_management import data_report"
   ]
  },
  {
   "cell_type": "code",
   "execution_count": 12,
   "metadata": {
    "scrolled": false
   },
   "outputs": [
    {
     "name": "stdout",
     "output_type": "stream",
     "text": [
      "train总行数：\u001b[31m595212\u001b[0m | test总行数：\u001b[34m892816\u001b[0m\n",
      "train总列数：\u001b[31m59\u001b[0m | test总列数：\u001b[34m58\u001b[0m\n",
      "train总元素数：35117508\n",
      "test总元素数：51783328\n",
      "--------------------------------------------------\u001b[31mINFO\u001b[0m--------------------------------------------------\n",
      "【train info】\n",
      "<class 'pandas.core.frame.DataFrame'>\n",
      "RangeIndex: 595212 entries, 0 to 595211\n",
      "Data columns (total 59 columns):\n",
      " #   Column          Non-Null Count   Dtype  \n",
      "---  ------          --------------   -----  \n",
      " 0   id              595212 non-null  int64  \n",
      " 1   target          595212 non-null  int64  \n",
      " 2   ps_ind_01       595212 non-null  int64  \n",
      " 3   ps_ind_02_cat   595212 non-null  int64  \n",
      " 4   ps_ind_03       595212 non-null  int64  \n",
      " 5   ps_ind_04_cat   595212 non-null  int64  \n",
      " 6   ps_ind_05_cat   595212 non-null  int64  \n",
      " 7   ps_ind_06_bin   595212 non-null  int64  \n",
      " 8   ps_ind_07_bin   595212 non-null  int64  \n",
      " 9   ps_ind_08_bin   595212 non-null  int64  \n",
      " 10  ps_ind_09_bin   595212 non-null  int64  \n",
      " 11  ps_ind_10_bin   595212 non-null  int64  \n",
      " 12  ps_ind_11_bin   595212 non-null  int64  \n",
      " 13  ps_ind_12_bin   595212 non-null  int64  \n",
      " 14  ps_ind_13_bin   595212 non-null  int64  \n",
      " 15  ps_ind_14       595212 non-null  int64  \n",
      " 16  ps_ind_15       595212 non-null  int64  \n",
      " 17  ps_ind_16_bin   595212 non-null  int64  \n",
      " 18  ps_ind_17_bin   595212 non-null  int64  \n",
      " 19  ps_ind_18_bin   595212 non-null  int64  \n",
      " 20  ps_reg_01       595212 non-null  float64\n",
      " 21  ps_reg_02       595212 non-null  float64\n",
      " 22  ps_reg_03       595212 non-null  float64\n",
      " 23  ps_car_01_cat   595212 non-null  int64  \n",
      " 24  ps_car_02_cat   595212 non-null  int64  \n",
      " 25  ps_car_03_cat   595212 non-null  int64  \n",
      " 26  ps_car_04_cat   595212 non-null  int64  \n",
      " 27  ps_car_05_cat   595212 non-null  int64  \n",
      " 28  ps_car_06_cat   595212 non-null  int64  \n",
      " 29  ps_car_07_cat   595212 non-null  int64  \n",
      " 30  ps_car_08_cat   595212 non-null  int64  \n",
      " 31  ps_car_09_cat   595212 non-null  int64  \n",
      " 32  ps_car_10_cat   595212 non-null  int64  \n",
      " 33  ps_car_11_cat   595212 non-null  int64  \n",
      " 34  ps_car_11       595212 non-null  int64  \n",
      " 35  ps_car_12       595212 non-null  float64\n",
      " 36  ps_car_13       595212 non-null  float64\n",
      " 37  ps_car_14       595212 non-null  float64\n",
      " 38  ps_car_15       595212 non-null  float64\n",
      " 39  ps_calc_01      595212 non-null  float64\n",
      " 40  ps_calc_02      595212 non-null  float64\n",
      " 41  ps_calc_03      595212 non-null  float64\n",
      " 42  ps_calc_04      595212 non-null  int64  \n",
      " 43  ps_calc_05      595212 non-null  int64  \n",
      " 44  ps_calc_06      595212 non-null  int64  \n",
      " 45  ps_calc_07      595212 non-null  int64  \n",
      " 46  ps_calc_08      595212 non-null  int64  \n",
      " 47  ps_calc_09      595212 non-null  int64  \n",
      " 48  ps_calc_10      595212 non-null  int64  \n",
      " 49  ps_calc_11      595212 non-null  int64  \n",
      " 50  ps_calc_12      595212 non-null  int64  \n",
      " 51  ps_calc_13      595212 non-null  int64  \n",
      " 52  ps_calc_14      595212 non-null  int64  \n",
      " 53  ps_calc_15_bin  595212 non-null  int64  \n",
      " 54  ps_calc_16_bin  595212 non-null  int64  \n",
      " 55  ps_calc_17_bin  595212 non-null  int64  \n",
      " 56  ps_calc_18_bin  595212 non-null  int64  \n",
      " 57  ps_calc_19_bin  595212 non-null  int64  \n",
      " 58  ps_calc_20_bin  595212 non-null  int64  \n",
      "dtypes: float64(10), int64(49)\n",
      "memory usage: 267.9 MB\n",
      "--------------------------------------------------------------------------------------------------------\n",
      "【test info】\n",
      "<class 'pandas.core.frame.DataFrame'>\n",
      "RangeIndex: 892816 entries, 0 to 892815\n",
      "Data columns (total 58 columns):\n",
      " #   Column          Non-Null Count   Dtype  \n",
      "---  ------          --------------   -----  \n",
      " 0   id              892816 non-null  int64  \n",
      " 1   ps_ind_01       892816 non-null  int64  \n",
      " 2   ps_ind_02_cat   892816 non-null  int64  \n",
      " 3   ps_ind_03       892816 non-null  int64  \n",
      " 4   ps_ind_04_cat   892816 non-null  int64  \n",
      " 5   ps_ind_05_cat   892816 non-null  int64  \n",
      " 6   ps_ind_06_bin   892816 non-null  int64  \n",
      " 7   ps_ind_07_bin   892816 non-null  int64  \n",
      " 8   ps_ind_08_bin   892816 non-null  int64  \n",
      " 9   ps_ind_09_bin   892816 non-null  int64  \n",
      " 10  ps_ind_10_bin   892816 non-null  int64  \n",
      " 11  ps_ind_11_bin   892816 non-null  int64  \n",
      " 12  ps_ind_12_bin   892816 non-null  int64  \n",
      " 13  ps_ind_13_bin   892816 non-null  int64  \n",
      " 14  ps_ind_14       892816 non-null  int64  \n",
      " 15  ps_ind_15       892816 non-null  int64  \n",
      " 16  ps_ind_16_bin   892816 non-null  int64  \n",
      " 17  ps_ind_17_bin   892816 non-null  int64  \n",
      " 18  ps_ind_18_bin   892816 non-null  int64  \n",
      " 19  ps_reg_01       892816 non-null  float64\n",
      " 20  ps_reg_02       892816 non-null  float64\n",
      " 21  ps_reg_03       892816 non-null  float64\n",
      " 22  ps_car_01_cat   892816 non-null  int64  \n",
      " 23  ps_car_02_cat   892816 non-null  int64  \n",
      " 24  ps_car_03_cat   892816 non-null  int64  \n",
      " 25  ps_car_04_cat   892816 non-null  int64  \n",
      " 26  ps_car_05_cat   892816 non-null  int64  \n",
      " 27  ps_car_06_cat   892816 non-null  int64  \n",
      " 28  ps_car_07_cat   892816 non-null  int64  \n",
      " 29  ps_car_08_cat   892816 non-null  int64  \n",
      " 30  ps_car_09_cat   892816 non-null  int64  \n",
      " 31  ps_car_10_cat   892816 non-null  int64  \n",
      " 32  ps_car_11_cat   892816 non-null  int64  \n",
      " 33  ps_car_11       892816 non-null  int64  \n",
      " 34  ps_car_12       892816 non-null  float64\n",
      " 35  ps_car_13       892816 non-null  float64\n",
      " 36  ps_car_14       892816 non-null  float64\n",
      " 37  ps_car_15       892816 non-null  float64\n",
      " 38  ps_calc_01      892816 non-null  float64\n",
      " 39  ps_calc_02      892816 non-null  float64\n",
      " 40  ps_calc_03      892816 non-null  float64\n",
      " 41  ps_calc_04      892816 non-null  int64  \n",
      " 42  ps_calc_05      892816 non-null  int64  \n",
      " 43  ps_calc_06      892816 non-null  int64  \n",
      " 44  ps_calc_07      892816 non-null  int64  \n",
      " 45  ps_calc_08      892816 non-null  int64  \n",
      " 46  ps_calc_09      892816 non-null  int64  \n",
      " 47  ps_calc_10      892816 non-null  int64  \n",
      " 48  ps_calc_11      892816 non-null  int64  \n",
      " 49  ps_calc_12      892816 non-null  int64  \n",
      " 50  ps_calc_13      892816 non-null  int64  \n",
      " 51  ps_calc_14      892816 non-null  int64  \n",
      " 52  ps_calc_15_bin  892816 non-null  int64  \n",
      " 53  ps_calc_16_bin  892816 non-null  int64  \n",
      " 54  ps_calc_17_bin  892816 non-null  int64  \n",
      " 55  ps_calc_18_bin  892816 non-null  int64  \n",
      " 56  ps_calc_19_bin  892816 non-null  int64  \n",
      " 57  ps_calc_20_bin  892816 non-null  int64  \n",
      "dtypes: float64(10), int64(48)\n",
      "memory usage: 395.1 MB\n",
      "------------------------------------------------\u001b[31mSUMMARY\u001b[0m------------------------------------------------\n",
      "************************************************\u001b[34m COUNTS \u001b[0m************************************************\n",
      "【COUNTS GROUPBY ROLE & LEVEL】\n",
      "+----+---------+----------+---------+\n",
      "|    | role    | level    |   count |\n",
      "+====+=========+==========+=========+\n",
      "|  0 | feature | binary   |      17 |\n",
      "+----+---------+----------+---------+\n",
      "|  3 | feature | ordinal  |      16 |\n",
      "+----+---------+----------+---------+\n",
      "|  2 | feature | nominal  |      14 |\n",
      "+----+---------+----------+---------+\n",
      "|  1 | feature | interval |       5 |\n",
      "+----+---------+----------+---------+\n",
      "|  4 | feature | ratio    |       5 |\n",
      "+----+---------+----------+---------+\n",
      "|  5 | id      | nominal  |       1 |\n",
      "+----+---------+----------+---------+\n",
      "|  6 | target  | binary   |       1 |\n",
      "+----+---------+----------+---------+\n",
      "【COUNTS GROUPBY ROLE & CATEGORY】\n",
      "+----+---------+------------+---------+\n",
      "|    | role    | category   |   count |\n",
      "+====+=========+============+=========+\n",
      "|  0 | feature | calculated |      20 |\n",
      "+----+---------+------------+---------+\n",
      "|  2 | feature | individual |      18 |\n",
      "+----+---------+------------+---------+\n",
      "|  1 | feature | car        |      16 |\n",
      "+----+---------+------------+---------+\n",
      "|  3 | feature | region     |       3 |\n",
      "+----+---------+------------+---------+\n",
      "|  4 | id      | other      |       1 |\n",
      "+----+---------+------------+---------+\n",
      "|  5 | target  | other      |       1 |\n",
      "+----+---------+------------+---------+\n",
      "【COUNTS GROUPBY ROLE & CARDINALITY_LEVEL】\n",
      "+----+---------+---------------------+---------+\n",
      "|    | role    | cardinality_level   |   count |\n",
      "+====+=========+=====================+=========+\n",
      "|  2 | feature | Low Cardinality     |      35 |\n",
      "+----+---------+---------------------+---------+\n",
      "|  3 | feature | Medium Cardinality  |      11 |\n",
      "+----+---------+---------------------+---------+\n",
      "|  1 | feature | Ignore              |      10 |\n",
      "+----+---------+---------------------+---------+\n",
      "|  0 | feature | High Cardinality    |       1 |\n",
      "+----+---------+---------------------+---------+\n",
      "|  4 | id      | Ignore              |       1 |\n",
      "+----+---------+---------------------+---------+\n",
      "|  5 | target  | Low Cardinality     |       1 |\n",
      "+----+---------+---------------------+---------+\n",
      "************************************************\u001b[34m MISSING \u001b[0m************************************************\n",
      "【COLS TO DROP】\n",
      " • id\n",
      " • ps_car_03_cat\n",
      " • ps_car_05_cat\n",
      "【COLS TO IMPUTE USING (MODE)】\n",
      " • ps_ind_02_cat\n",
      " • ps_ind_04_cat\n",
      " • ps_ind_05_cat\n",
      " • ps_car_01_cat\n",
      " • ps_car_02_cat\n",
      " • ps_car_07_cat\n",
      " • ps_car_09_cat\n",
      "【COLS TO IMPUTE USING (MODE|MEDIAN)】\n",
      " • ps_car_11\n",
      "【COLS TO IMPUTE USING (MODE|MEDIAN|MEAN)】\n",
      " • ps_reg_03\n",
      " • ps_car_12\n",
      " • ps_car_14\n",
      "************************************************\u001b[34m CARDINALITY \u001b[0m************************************************\n",
      "【COLS WITH MEDIUM CARDINALITY】 ==> \u001b[33mPLEASE TAKE CARE OF USING ONEHOT-ENCODING\u001b[0m\n",
      " • ps_ind_03\n",
      " • ps_ind_15\n",
      " • ps_car_01_cat\n",
      " • ps_car_06_cat\n",
      " • ps_calc_06\n",
      " • ps_calc_08\n",
      " • ps_calc_10\n",
      " • ps_calc_11\n",
      " • ps_calc_12\n",
      " • ps_calc_13\n",
      " • ps_calc_14\n",
      "【COLS WITH HIGH CARDINALITY】 ==> \u001b[33mPLEASE APPLY TARGET-ENCODING\u001b[0m\n",
      " • \u001b[32mps_car_11_cat\u001b[0m\n",
      "------------------------------------------\u001b[31mDESCRIPTIVE ANALYSIS\u001b[0m------------------------------------------\n"
     ]
    },
    {
     "name": "stdout",
     "output_type": "stream",
     "text": [
      "+------------+-------------+----------+-----------+-----------+----------+----------+----------+----------+\n",
      "|            |       count |     mean |       std |       min |      25% |      50% |      75% |      max |\n",
      "+============+=============+==========+===========+===========+==========+==========+==========+==========+\n",
      "| ps_reg_01  | 1.48803e+06 | 0.611031 | 0.287676  |  0        | 0.4      | 0.7      | 0.9      | 0.9      |\n",
      "+------------+-------------+----------+-----------+-----------+----------+----------+----------+----------+\n",
      "| ps_reg_02  | 1.48803e+06 | 0.439594 | 0.404512  |  0        | 0.2      | 0.3      | 0.6      | 1.8      |\n",
      "+------------+-------------+----------+-----------+-----------+----------+----------+----------+----------+\n",
      "| ps_reg_03  | 1.48803e+06 | 0.551485 | 0.793816  | -1        | 0.525    | 0.72111  | 1.00156  | 4.42352  |\n",
      "+------------+-------------+----------+-----------+-----------+----------+----------+----------+----------+\n",
      "| ps_car_12  | 1.48803e+06 | 0.379952 | 0.0583619 | -1        | 0.316228 | 0.374166 | 0.4      | 1.26491  |\n",
      "+------------+-------------+----------+-----------+-----------+----------+----------+----------+----------+\n",
      "| ps_car_13  | 1.48803e+06 | 0.813488 | 0.224702  |  0.250619 | 0.671005 | 0.766041 | 0.906143 | 4.0313   |\n",
      "+------------+-------------+----------+-----------+-----------+----------+----------+----------+----------+\n",
      "| ps_car_14  | 1.48803e+06 | 0.276361 | 0.356962  | -1        | 0.333916 | 0.368782 | 0.396485 | 0.636396 |\n",
      "+------------+-------------+----------+-----------+-----------+----------+----------+----------+----------+\n",
      "| ps_car_15  | 1.48803e+06 | 3.06735  | 0.729951  |  0        | 2.82843  | 3.31662  | 3.60555  | 3.74166  |\n",
      "+------------+-------------+----------+-----------+-----------+----------+----------+----------+----------+\n",
      "| ps_calc_01 | 1.48803e+06 | 0.449682 | 0.287207  |  0        | 0.2      | 0.4      | 0.7      | 0.9      |\n",
      "+------------+-------------+----------+-----------+-----------+----------+----------+----------+----------+\n",
      "| ps_calc_02 | 1.48803e+06 | 0.450107 | 0.287182  |  0        | 0.2      | 0.5      | 0.7      | 0.9      |\n",
      "+------------+-------------+----------+-----------+-----------+----------+----------+----------+----------+\n",
      "| ps_calc_03 | 1.48803e+06 | 0.449972 | 0.287214  |  0        | 0.2      | 0.5      | 0.7      | 0.9      |\n",
      "+------------+-------------+----------+-----------+-----------+----------+----------+----------+----------+\n",
      "--------------------------------------------------\u001b[31mMETA\u001b[0m--------------------------------------------------\n",
      "+----------------+---------+------------+----------+---------+---------------+-------------------+--------+\n",
      "|                | role    | category   | level    | dtype   | cardinality   | missing_percent   | keep   |\n",
      "+================+=========+============+==========+=========+===============+===================+========+\n",
      "| id             | id      | other      | nominal  | int64   | Ignore        | 0(0.0%)           | False  |\n",
      "+----------------+---------+------------+----------+---------+---------------+-------------------+--------+\n",
      "| target         | target  | other      | binary   | object  | 3             | 0(0.0%)           | True   |\n",
      "+----------------+---------+------------+----------+---------+---------------+-------------------+--------+\n",
      "| ps_ind_01      | feature | individual | ordinal  | int64   | 8             | 0(0.0%)           | True   |\n",
      "+----------------+---------+------------+----------+---------+---------------+-------------------+--------+\n",
      "| ps_ind_02_cat  | feature | individual | nominal  | int64   | 4             | 523(0.04%)        | True   |\n",
      "+----------------+---------+------------+----------+---------+---------------+-------------------+--------+\n",
      "| ps_ind_03      | feature | individual | ordinal  | int64   | 12            | 0(0.0%)           | True   |\n",
      "+----------------+---------+------------+----------+---------+---------------+-------------------+--------+\n",
      "| ps_ind_04_cat  | feature | individual | nominal  | int64   | 2             | 228(0.02%)        | True   |\n",
      "+----------------+---------+------------+----------+---------+---------------+-------------------+--------+\n",
      "| ps_ind_05_cat  | feature | individual | nominal  | int64   | 7             | 14519(0.98%)      | True   |\n",
      "+----------------+---------+------------+----------+---------+---------------+-------------------+--------+\n",
      "| ps_ind_06_bin  | feature | individual | binary   | int64   | 2             | 0(0.0%)           | True   |\n",
      "+----------------+---------+------------+----------+---------+---------------+-------------------+--------+\n",
      "| ps_ind_07_bin  | feature | individual | binary   | int64   | 2             | 0(0.0%)           | True   |\n",
      "+----------------+---------+------------+----------+---------+---------------+-------------------+--------+\n",
      "| ps_ind_08_bin  | feature | individual | binary   | int64   | 2             | 0(0.0%)           | True   |\n",
      "+----------------+---------+------------+----------+---------+---------------+-------------------+--------+\n",
      "| ps_ind_09_bin  | feature | individual | binary   | int64   | 2             | 0(0.0%)           | True   |\n",
      "+----------------+---------+------------+----------+---------+---------------+-------------------+--------+\n",
      "| ps_ind_10_bin  | feature | individual | binary   | int64   | 2             | 0(0.0%)           | True   |\n",
      "+----------------+---------+------------+----------+---------+---------------+-------------------+--------+\n",
      "| ps_ind_11_bin  | feature | individual | binary   | int64   | 2             | 0(0.0%)           | True   |\n",
      "+----------------+---------+------------+----------+---------+---------------+-------------------+--------+\n",
      "| ps_ind_12_bin  | feature | individual | binary   | int64   | 2             | 0(0.0%)           | True   |\n",
      "+----------------+---------+------------+----------+---------+---------------+-------------------+--------+\n",
      "| ps_ind_13_bin  | feature | individual | binary   | int64   | 2             | 0(0.0%)           | True   |\n",
      "+----------------+---------+------------+----------+---------+---------------+-------------------+--------+\n",
      "| ps_ind_14      | feature | individual | ordinal  | int64   | 5             | 0(0.0%)           | True   |\n",
      "+----------------+---------+------------+----------+---------+---------------+-------------------+--------+\n",
      "| ps_ind_15      | feature | individual | ordinal  | int64   | 14            | 0(0.0%)           | True   |\n",
      "+----------------+---------+------------+----------+---------+---------------+-------------------+--------+\n",
      "| ps_ind_16_bin  | feature | individual | binary   | int64   | 2             | 0(0.0%)           | True   |\n",
      "+----------------+---------+------------+----------+---------+---------------+-------------------+--------+\n",
      "| ps_ind_17_bin  | feature | individual | binary   | int64   | 2             | 0(0.0%)           | True   |\n",
      "+----------------+---------+------------+----------+---------+---------------+-------------------+--------+\n",
      "| ps_ind_18_bin  | feature | individual | binary   | int64   | 2             | 0(0.0%)           | True   |\n",
      "+----------------+---------+------------+----------+---------+---------------+-------------------+--------+\n",
      "| ps_reg_01      | feature | region     | ratio    | float64 | Ignore        | 0(0.0%)           | True   |\n",
      "+----------------+---------+------------+----------+---------+---------------+-------------------+--------+\n",
      "| ps_reg_02      | feature | region     | interval | float64 | Ignore        | 0(0.0%)           | True   |\n",
      "+----------------+---------+------------+----------+---------+---------------+-------------------+--------+\n",
      "| ps_reg_03      | feature | region     | interval | float64 | Ignore        | 269456(18.11%)    | True   |\n",
      "+----------------+---------+------------+----------+---------+---------------+-------------------+--------+\n",
      "| ps_car_01_cat  | feature | car        | nominal  | int64   | 12            | 267(0.02%)        | True   |\n",
      "+----------------+---------+------------+----------+---------+---------------+-------------------+--------+\n",
      "| ps_car_02_cat  | feature | car        | nominal  | int64   | 2             | 10(0.0%)          | True   |\n",
      "+----------------+---------+------------+----------+---------+---------------+-------------------+--------+\n",
      "| ps_car_03_cat  | feature | car        | nominal  | int64   | 2             | 1028142(69.09%)   | False  |\n",
      "+----------------+---------+------------+----------+---------+---------------+-------------------+--------+\n",
      "| ps_car_04_cat  | feature | car        | nominal  | int64   | 10            | 0(0.0%)           | True   |\n",
      "+----------------+---------+------------+----------+---------+---------------+-------------------+--------+\n",
      "| ps_car_05_cat  | feature | car        | nominal  | int64   | 2             | 666910(44.82%)    | False  |\n",
      "+----------------+---------+------------+----------+---------+---------------+-------------------+--------+\n",
      "| ps_car_06_cat  | feature | car        | nominal  | int64   | 18            | 0(0.0%)           | True   |\n",
      "+----------------+---------+------------+----------+---------+---------------+-------------------+--------+\n",
      "| ps_car_07_cat  | feature | car        | nominal  | int64   | 2             | 28820(1.94%)      | True   |\n",
      "+----------------+---------+------------+----------+---------+---------------+-------------------+--------+\n",
      "| ps_car_08_cat  | feature | car        | nominal  | int64   | 2             | 0(0.0%)           | True   |\n",
      "+----------------+---------+------------+----------+---------+---------------+-------------------+--------+\n",
      "| ps_car_09_cat  | feature | car        | nominal  | int64   | 5             | 1446(0.1%)        | True   |\n",
      "+----------------+---------+------------+----------+---------+---------------+-------------------+--------+\n",
      "| ps_car_10_cat  | feature | car        | nominal  | int64   | 3             | 0(0.0%)           | True   |\n",
      "+----------------+---------+------------+----------+---------+---------------+-------------------+--------+\n",
      "| ps_car_11_cat  | feature | car        | nominal  | int64   | 104           | 0(0.0%)           | True   |\n",
      "+----------------+---------+------------+----------+---------+---------------+-------------------+--------+\n",
      "| ps_car_11      | feature | car        | ordinal  | int64   | 4             | 6(0.0%)           | True   |\n",
      "+----------------+---------+------------+----------+---------+---------------+-------------------+--------+\n",
      "| ps_car_12      | feature | car        | interval | float64 | Ignore        | 1(0.0%)           | True   |\n",
      "+----------------+---------+------------+----------+---------+---------------+-------------------+--------+\n",
      "| ps_car_13      | feature | car        | interval | float64 | Ignore        | 0(0.0%)           | True   |\n",
      "+----------------+---------+------------+----------+---------+---------------+-------------------+--------+\n",
      "| ps_car_14      | feature | car        | ratio    | float64 | Ignore        | 106425(7.15%)     | True   |\n",
      "+----------------+---------+------------+----------+---------+---------------+-------------------+--------+\n",
      "| ps_car_15      | feature | car        | interval | float64 | Ignore        | 0(0.0%)           | True   |\n",
      "+----------------+---------+------------+----------+---------+---------------+-------------------+--------+\n",
      "| ps_calc_01     | feature | calculated | ratio    | float64 | Ignore        | 0(0.0%)           | True   |\n",
      "+----------------+---------+------------+----------+---------+---------------+-------------------+--------+\n",
      "| ps_calc_02     | feature | calculated | ratio    | float64 | Ignore        | 0(0.0%)           | True   |\n",
      "+----------------+---------+------------+----------+---------+---------------+-------------------+--------+\n",
      "| ps_calc_03     | feature | calculated | ratio    | float64 | Ignore        | 0(0.0%)           | True   |\n",
      "+----------------+---------+------------+----------+---------+---------------+-------------------+--------+\n",
      "| ps_calc_04     | feature | calculated | ordinal  | int64   | 6             | 0(0.0%)           | True   |\n",
      "+----------------+---------+------------+----------+---------+---------------+-------------------+--------+\n",
      "| ps_calc_05     | feature | calculated | ordinal  | int64   | 7             | 0(0.0%)           | True   |\n",
      "+----------------+---------+------------+----------+---------+---------------+-------------------+--------+\n",
      "| ps_calc_06     | feature | calculated | ordinal  | int64   | 11            | 0(0.0%)           | True   |\n",
      "+----------------+---------+------------+----------+---------+---------------+-------------------+--------+\n",
      "| ps_calc_07     | feature | calculated | ordinal  | int64   | 10            | 0(0.0%)           | True   |\n",
      "+----------------+---------+------------+----------+---------+---------------+-------------------+--------+\n",
      "| ps_calc_08     | feature | calculated | ordinal  | int64   | 12            | 0(0.0%)           | True   |\n",
      "+----------------+---------+------------+----------+---------+---------------+-------------------+--------+\n",
      "| ps_calc_09     | feature | calculated | ordinal  | int64   | 8             | 0(0.0%)           | True   |\n",
      "+----------------+---------+------------+----------+---------+---------------+-------------------+--------+\n",
      "| ps_calc_10     | feature | calculated | ordinal  | int64   | 26            | 0(0.0%)           | True   |\n",
      "+----------------+---------+------------+----------+---------+---------------+-------------------+--------+\n",
      "| ps_calc_11     | feature | calculated | ordinal  | int64   | 21            | 0(0.0%)           | True   |\n",
      "+----------------+---------+------------+----------+---------+---------------+-------------------+--------+\n",
      "| ps_calc_12     | feature | calculated | ordinal  | int64   | 12            | 0(0.0%)           | True   |\n",
      "+----------------+---------+------------+----------+---------+---------------+-------------------+--------+\n",
      "| ps_calc_13     | feature | calculated | ordinal  | int64   | 16            | 0(0.0%)           | True   |\n",
      "+----------------+---------+------------+----------+---------+---------------+-------------------+--------+\n",
      "| ps_calc_14     | feature | calculated | ordinal  | int64   | 25            | 0(0.0%)           | True   |\n",
      "+----------------+---------+------------+----------+---------+---------------+-------------------+--------+\n",
      "| ps_calc_15_bin | feature | calculated | binary   | int64   | 2             | 0(0.0%)           | True   |\n",
      "+----------------+---------+------------+----------+---------+---------------+-------------------+--------+\n",
      "| ps_calc_16_bin | feature | calculated | binary   | int64   | 2             | 0(0.0%)           | True   |\n",
      "+----------------+---------+------------+----------+---------+---------------+-------------------+--------+\n",
      "| ps_calc_17_bin | feature | calculated | binary   | int64   | 2             | 0(0.0%)           | True   |\n",
      "+----------------+---------+------------+----------+---------+---------------+-------------------+--------+\n",
      "| ps_calc_18_bin | feature | calculated | binary   | int64   | 2             | 0(0.0%)           | True   |\n",
      "+----------------+---------+------------+----------+---------+---------------+-------------------+--------+\n",
      "| ps_calc_19_bin | feature | calculated | binary   | int64   | 2             | 0(0.0%)           | True   |\n",
      "+----------------+---------+------------+----------+---------+---------------+-------------------+--------+\n",
      "| ps_calc_20_bin | feature | calculated | binary   | int64   | 2             | 0(0.0%)           | True   |\n",
      "+----------------+---------+------------+----------+---------+---------------+-------------------+--------+\n"
     ]
    }
   ],
   "source": [
    "data_report(train,test,metadata,verbose=True)"
   ]
  },
  {
   "cell_type": "markdown",
   "metadata": {},
   "source": [
    "补充：\n",
    "\n",
    "如果你有余力，建议从下面链接中完成这100道Python Pandas puzzle！来为你下一阶段保驾护航！\n",
    "\n",
    "链接：https://github.com/ajcr/100-pandas-puzzles/blob/master/100-pandas-puzzles.ipynb"
   ]
  },
  {
   "cell_type": "markdown",
   "metadata": {},
   "source": [
    "[![H65i3d.gif](https://s4.ax1x.com/2022/02/14/H65i3d.gif)](https://imgtu.com/i/H65i3d)"
   ]
  },
  {
   "cell_type": "markdown",
   "metadata": {
    "_cell_guid": "de7a1f63-ccb4-49f0-bf3e-8e1181c5c5be",
    "_uuid": "b8aa7aee1c138ab00cecc0197b33d07d9a1cc1e0"
   },
   "source": [
    "<img src=\"https://s4.ax1x.com/2022/02/14/H65vxs.jpg\" alt=\"image-20220214212808413\" style=\"zoom:25%;\" />"
   ]
  }
 ],
 "metadata": {
  "kernelspec": {
   "display_name": "Python 3",
   "language": "python",
   "name": "python3"
  },
  "language_info": {
   "codemirror_mode": {
    "name": "ipython",
    "version": 3
   },
   "file_extension": ".py",
   "mimetype": "text/x-python",
   "name": "python",
   "nbconvert_exporter": "python",
   "pygments_lexer": "ipython3",
   "version": "3.7.6"
  }
 },
 "nbformat": 4,
 "nbformat_minor": 4
}
